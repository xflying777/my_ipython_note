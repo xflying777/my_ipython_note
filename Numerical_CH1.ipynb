{
 "metadata": {
  "name": "",
  "signature": "sha256:74705ac74e3e48de2f33aaf4c7ed07a3edbe4a4de5f1ca0cb3ce37df79e61eed"
 },
 "nbformat": 3,
 "nbformat_minor": 0,
 "worksheets": [
  {
   "cells": [
    {
     "cell_type": "markdown",
     "metadata": {},
     "source": [
      "# Basic Linear Algebra"
     ]
    },
    {
     "cell_type": "code",
     "collapsed": false,
     "input": [
      "import numpy as np\n",
      "import scipy as sp\n",
      "\n",
      "print ' Import numpy and scipy success ! '"
     ],
     "language": "python",
     "metadata": {},
     "outputs": [
      {
       "output_type": "stream",
       "stream": "stdout",
       "text": [
        " Import numpy and scipy success ! \n"
       ]
      }
     ],
     "prompt_number": 1
    },
    {
     "cell_type": "markdown",
     "metadata": {},
     "source": [
      "## Array"
     ]
    },
    {
     "cell_type": "markdown",
     "metadata": {},
     "source": [
      "### Array creation"
     ]
    },
    {
     "cell_type": "code",
     "collapsed": false,
     "input": [
      "A = np.array([1.0, 2.0, 3.0])\n",
      "print A\n",
      "print ' A = [%f, %f, %f] ' %(A[0], A[1], A[2])"
     ],
     "language": "python",
     "metadata": {},
     "outputs": [
      {
       "output_type": "stream",
       "stream": "stdout",
       "text": [
        "[ 1.  2.  3.]\n",
        " A = [1.000000, 2.000000, 3.000000] \n"
       ]
      }
     ],
     "prompt_number": 2
    },
    {
     "cell_type": "code",
     "collapsed": false,
     "input": [
      "B = np.array([[3.0, 6.0, 9.0], [2.0, 5.0, 8.0], [1.0, 4.0, 7.0]])\n",
      "print B\n",
      "print ' B[%d, %d] = %f' %(0, 0, B[0, 0])"
     ],
     "language": "python",
     "metadata": {},
     "outputs": [
      {
       "output_type": "stream",
       "stream": "stdout",
       "text": [
        "[[ 3.  6.  9.]\n",
        " [ 2.  5.  8.]\n",
        " [ 1.  4.  7.]]\n",
        " B[0, 0] = 3.000000\n"
       ]
      }
     ],
     "prompt_number": 3
    },
    {
     "cell_type": "code",
     "collapsed": false,
     "input": [
      "x = np.zeros((2, 3))\n",
      "y = np.random.randint(10, size=(2, 3))\n",
      "print x\n",
      "print y\n",
      "print x + y"
     ],
     "language": "python",
     "metadata": {},
     "outputs": [
      {
       "output_type": "stream",
       "stream": "stdout",
       "text": [
        "[[ 0.  0.  0.]\n",
        " [ 0.  0.  0.]]\n",
        "[[0 0 8]\n",
        " [1 9 7]]\n",
        "[[ 0.  0.  8.]\n",
        " [ 1.  9.  7.]]\n"
       ]
      }
     ],
     "prompt_number": 16
    },
    {
     "cell_type": "code",
     "collapsed": false,
     "input": [
      "np.ones((4, 5))"
     ],
     "language": "python",
     "metadata": {},
     "outputs": [
      {
       "metadata": {},
       "output_type": "pyout",
       "prompt_number": 5,
       "text": [
        "array([[ 1.,  1.,  1.,  1.,  1.],\n",
        "       [ 1.,  1.,  1.,  1.,  1.],\n",
        "       [ 1.,  1.,  1.,  1.,  1.],\n",
        "       [ 1.,  1.,  1.,  1.,  1.]])"
       ]
      }
     ],
     "prompt_number": 5
    },
    {
     "cell_type": "markdown",
     "metadata": {},
     "source": [
      "### Transpose"
     ]
    },
    {
     "cell_type": "code",
     "collapsed": false,
     "input": [
      "A1 = np.transpose(A)\n",
      "print A1"
     ],
     "language": "python",
     "metadata": {},
     "outputs": [
      {
       "output_type": "stream",
       "stream": "stdout",
       "text": [
        "[ 1.  2.  3.]\n"
       ]
      }
     ],
     "prompt_number": 6
    },
    {
     "cell_type": "code",
     "collapsed": false,
     "input": [
      "B1 = np.transpose(B)\n",
      "print B1"
     ],
     "language": "python",
     "metadata": {},
     "outputs": [
      {
       "output_type": "stream",
       "stream": "stdout",
       "text": [
        "[[ 3.  2.  1.]\n",
        " [ 6.  5.  4.]\n",
        " [ 9.  8.  7.]]\n"
       ]
      }
     ],
     "prompt_number": 7
    },
    {
     "cell_type": "markdown",
     "metadata": {},
     "source": [
      "### Copy"
     ]
    },
    {
     "cell_type": "code",
     "collapsed": false,
     "input": [
      "C = A\n",
      "D = B[0:3, :] # B[1:N] maens B[1 to N-1]\n",
      "print ' C = '\n",
      "print C\n",
      "print '\\n D = '\n",
      "print D\n"
     ],
     "language": "python",
     "metadata": {},
     "outputs": [
      {
       "output_type": "stream",
       "stream": "stdout",
       "text": [
        " C = \n",
        "[ 1.  2.  3.]\n",
        "\n",
        " D = \n",
        "[[ 3.  6.  9.]\n",
        " [ 2.  5.  8.]\n",
        " [ 1.  4.  7.]]\n"
       ]
      }
     ],
     "prompt_number": 8
    },
    {
     "cell_type": "markdown",
     "metadata": {},
     "source": [
      "### Dot"
     ]
    },
    {
     "cell_type": "code",
     "collapsed": false,
     "input": [
      "print ' B * A '\n",
      "print B * A\n",
      "print '\\n np.dot(B, A) '\n",
      "print np.dot(B, A)"
     ],
     "language": "python",
     "metadata": {},
     "outputs": [
      {
       "output_type": "stream",
       "stream": "stdout",
       "text": [
        " B * A \n",
        "[[  3.  12.  27.]\n",
        " [  2.  10.  24.]\n",
        " [  1.   8.  21.]]\n",
        "\n",
        " np.dot(B, A) \n",
        "[ 42.  36.  30.]\n"
       ]
      }
     ],
     "prompt_number": 9
    },
    {
     "cell_type": "markdown",
     "metadata": {},
     "source": [
      "### Nrm2"
     ]
    },
    {
     "cell_type": "code",
     "collapsed": false,
     "input": [
      "# defualt is Frobenius norm\n",
      "nrm2A = np.linalg.norm(A)\n",
      "print ' nrm2A = %f' %nrm2A\n",
      "nrm2B = np.linalg.norm(B, 2)\n",
      "print ' nrm2B = %f' %nrm2B\n",
      "nrmfB = np.linalg.norm(B, 'fro')\n",
      "print ' nrmfB = %f' %nrmfB"
     ],
     "language": "python",
     "metadata": {},
     "outputs": [
      {
       "output_type": "stream",
       "stream": "stdout",
       "text": [
        " nrm2A = 3.741657\n",
        " nrm2B = 16.848103\n",
        " nrmfB = 16.881943\n"
       ]
      }
     ],
     "prompt_number": 10
    },
    {
     "cell_type": "markdown",
     "metadata": {},
     "source": [
      "### Axpy"
     ]
    },
    {
     "cell_type": "code",
     "collapsed": false,
     "input": [
      "x = np.arange(10.0)\n",
      "print ' x = '\n",
      "print x\n",
      "y = np.arange(10.0)**2\n",
      "print ' y = '\n",
      "print y\n",
      "\n",
      "y += 2.0*x\n",
      "print ' y += 2.0*x'\n",
      "print y"
     ],
     "language": "python",
     "metadata": {},
     "outputs": [
      {
       "output_type": "stream",
       "stream": "stdout",
       "text": [
        " x = \n",
        "[ 0.  1.  2.  3.  4.  5.  6.  7.  8.  9.]\n",
        " y = \n",
        "[  0.   1.   4.   9.  16.  25.  36.  49.  64.  81.]\n",
        " y += 2.0*x\n",
        "[  0.   3.   8.  15.  24.  35.  48.  63.  80.  99.]\n"
       ]
      }
     ],
     "prompt_number": 11
    },
    {
     "cell_type": "markdown",
     "metadata": {},
     "source": [
      "### Scale"
     ]
    },
    {
     "cell_type": "code",
     "collapsed": false,
     "input": [
      "print ' 2.0*x = '\n",
      "print 2.0*x\n",
      "print ' y/10 = '\n",
      "print y/10"
     ],
     "language": "python",
     "metadata": {},
     "outputs": [
      {
       "output_type": "stream",
       "stream": "stdout",
       "text": [
        " 2.0*x = \n",
        "[  0.   2.   4.   6.   8.  10.  12.  14.  16.  18.]\n",
        " y/10 = \n",
        "[ 0.   0.3  0.8  1.5  2.4  3.5  4.8  6.3  8.   9.9]\n"
       ]
      }
     ],
     "prompt_number": 12
    },
    {
     "cell_type": "markdown",
     "metadata": {},
     "source": [
      "### Matrix multiplication"
     ]
    },
    {
     "cell_type": "code",
     "collapsed": false,
     "input": [
      "import time;\n",
      "import scipy.linalg as la\n",
      "\n",
      "n = 3000\n",
      "A = sp.random.rand(n, n)\n",
      "B = sp.random.rand(n, n)\n",
      "\n",
      "#C = np.zeros((n, n)\n",
      "t1 = time.time()\n",
      "C = np.dot(A, B) # A * B\n",
      "t2 = time.time()\n",
      "t_np_dot = t2 - t1\n",
      "\n",
      "#C = np.zeros((n, n)\n",
      "t1 = time.time()\n",
      "C = sp.dot(A, B) # A * B\n",
      "t2 = time.time()\n",
      "t_sp_dot = t2 - t1\n",
      "\n",
      "#C = np.zeros((n, n)\n",
      "t1 = time.time()\n",
      "C = la.blas.dgemm(1.0, A, B) # C = alpha*A*B + C\n",
      "t2 = time.time()\n",
      "t_sp_blas = t2 - t1\n",
      "\n",
      "print ' np.dot spends %f seconds.' %t_np_dot\n",
      "print ' sp.dot spends %f seconds.' %t_sp_dot\n",
      "print ' sp.linalg.blas.dgemm spends %f seconds.' %t_sp_blas\n"
     ],
     "language": "python",
     "metadata": {},
     "outputs": [
      {
       "output_type": "stream",
       "stream": "stdout",
       "text": [
        " np.dot spends 1.406471 seconds.\n",
        " sp.dot spends 1.371753 seconds.\n",
        " sp.linalg.blas.dgemm spends 1.760121 seconds.\n"
       ]
      }
     ],
     "prompt_number": 14
    },
    {
     "cell_type": "code",
     "collapsed": false,
     "input": [],
     "language": "python",
     "metadata": {},
     "outputs": [],
     "prompt_number": 13
    }
   ],
   "metadata": {}
  }
 ]
}