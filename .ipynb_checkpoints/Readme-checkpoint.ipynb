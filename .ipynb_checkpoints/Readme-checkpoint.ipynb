{
 "metadata": {
  "name": "",
  "signature": "sha256:063db6187b1a4009c2e24f8a992ca99a1cd45358d49dc3400381c12be1f03915"
 },
 "nbformat": 3,
 "nbformat_minor": 0,
 "worksheets": [
  {
   "cells": [
    {
     "cell_type": "markdown",
     "metadata": {},
     "source": [
      "# Binary installers\n",
      "\n",
      "sudo apt-get install python-pip\n",
      "\n",
      "pip install numpy scipy"
     ]
    },
    {
     "cell_type": "code",
     "collapsed": false,
     "input": [],
     "language": "python",
     "metadata": {},
     "outputs": [],
     "prompt_number": 0
    },
    {
     "cell_type": "code",
     "collapsed": false,
     "input": [],
     "language": "python",
     "metadata": {},
     "outputs": [],
     "prompt_number": 0
    },
    {
     "cell_type": "code",
     "collapsed": false,
     "input": [],
     "language": "python",
     "metadata": {},
     "outputs": []
    }
   ],
   "metadata": {}
  }
 ]
}