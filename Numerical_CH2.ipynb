{
 "metadata": {
  "name": "",
  "signature": "sha256:428a39388c408cd953d00851957b71c2a81d12ac3f34ad6057fa81f68d8fd5f7"
 },
 "nbformat": 3,
 "nbformat_minor": 0,
 "worksheets": [
  {
   "cells": [
    {
     "cell_type": "markdown",
     "metadata": {},
     "source": [
      "# Algorithm"
     ]
    },
    {
     "cell_type": "code",
     "collapsed": false,
     "input": [
      "import numpy as np\n",
      "import scipy as sp"
     ],
     "language": "python",
     "metadata": {},
     "outputs": [],
     "prompt_number": 1
    },
    {
     "cell_type": "markdown",
     "metadata": {},
     "source": [
      "## Initial"
     ]
    },
    {
     "cell_type": "code",
     "collapsed": false,
     "input": [
      "N = 3\n",
      "A = np.random.randint(20, size=(N, N))\n",
      "print A"
     ],
     "language": "python",
     "metadata": {},
     "outputs": [
      {
       "output_type": "stream",
       "stream": "stdout",
       "text": [
        "[[ 7  2 13]\n",
        " [ 2 15 15]\n",
        " [12 14 15]]\n"
       ]
      }
     ],
     "prompt_number": 16
    },
    {
     "cell_type": "code",
     "collapsed": false,
     "input": [
      "B = np.random.random((N, N))\n",
      "print B"
     ],
     "language": "python",
     "metadata": {},
     "outputs": [
      {
       "output_type": "stream",
       "stream": "stdout",
       "text": [
        "[[ 0.32712555  0.70506418  0.45572889]\n",
        " [ 0.35342724  0.06071281  0.06730402]\n",
        " [ 0.58785761  0.41352671  0.49712723]]\n"
       ]
      }
     ],
     "prompt_number": 13
    },
    {
     "cell_type": "code",
     "collapsed": false,
     "input": [
      "A + B"
     ],
     "language": "python",
     "metadata": {},
     "outputs": [
      {
       "metadata": {},
       "output_type": "pyout",
       "prompt_number": 14,
       "text": [
        "array([[ 13.32712555,   6.70506418,   8.45572889],\n",
        "       [  5.35342724,   7.06071281,  11.06730402],\n",
        "       [ 17.58785761,   3.41352671,  14.49712723]])"
       ]
      }
     ],
     "prompt_number": 14
    },
    {
     "cell_type": "markdown",
     "metadata": {},
     "source": [
      "## Gram-Schmidt"
     ]
    },
    {
     "cell_type": "markdown",
     "metadata": {},
     "source": [
      "### Algorithm: Classical Gram-Schmidt (unstable)\n",
      "\n",
      "$for$ $j = 1$ to $n$  \n",
      "    $\\hspace{1em} v_j = a_j$  \n",
      "    $\\hspace{1em} for$  $i=1$ to $j-1$  \n",
      "        $\\hspace{2em} r_{ij} = q_{i}^{*} a_j$  \n",
      "        $\\hspace{2em} v_j = v_j - r_{ij} q_i$  \n",
      "    $\\hspace{1em} r_{jj} = ||v_j||$  \n",
      "    $\\hspace{1em} q_j = v_j/r_{jj}$\n"
     ]
    },
    {
     "cell_type": "code",
     "collapsed": false,
     "input": [
      "Q = np.zeros((N, N))\n",
      "R = np.zeros((N, N))\n",
      "\n",
      "for j in xrange(N):\n",
      "    v = A[:, j]\n",
      "    for i in xrange(0, j):\n",
      "        R[i, j] = np.dot(Q[:, i], A[:, j])\n",
      "        v = v - R[i, j]*Q[:, i]\n",
      "    R[j, j] = np.linalg.norm(v)\n",
      "    Q[:, j] = v/R[j, j]\n",
      "\n",
      "print Q\n",
      "print R"
     ],
     "language": "python",
     "metadata": {},
     "outputs": [
      {
       "output_type": "stream",
       "stream": "stdout",
       "text": [
        "[[ 0.49872935 -0.39435185  0.77185209]\n",
        " [ 0.1424941   0.91569223  0.3757701 ]\n",
        " [ 0.8549646   0.07742321 -0.5128754 ]]\n",
        "[[ 14.03566885  15.1043746   21.44536205]\n",
        " [  0.          14.03060469   9.77015754]\n",
        " [  0.           0.           7.97749762]]\n"
       ]
      }
     ],
     "prompt_number": 28
    },
    {
     "cell_type": "code",
     "collapsed": false,
     "input": [
      "error = np.max(np.abs(np.dot(Q, R) - A))\n",
      "print error"
     ],
     "language": "python",
     "metadata": {},
     "outputs": [
      {
       "output_type": "stream",
       "stream": "stdout",
       "text": [
        "1.7763568394e-15\n"
       ]
      }
     ],
     "prompt_number": 34
    },
    {
     "cell_type": "markdown",
     "metadata": {},
     "source": [
      "### Algorithm: Modified Gram-Schmidt\n",
      "${\\bf for}$ $i = 1$ to $n$  \n",
      "    $\\quad v_i = a_i$  \n",
      "${\\bf for}$ $i = 1$ to $n$  \n",
      "    $\\quad r_{ii} = ||v_i||$  \n",
      "    $\\quad q_i = v_i/r_{ii}$  \n",
      "    $\\quad {\\bf for}$ $j = i + 1$ to $n$  \n",
      "        $\\hspace{2em} r_{ij} = q_{i}^{*} v_j$  \n",
      "        $\\hspace{2em} v_j = v_j - r_{ij} q_i$"
     ]
    },
    {
     "cell_type": "code",
     "collapsed": false,
     "input": [],
     "language": "python",
     "metadata": {},
     "outputs": []
    }
   ],
   "metadata": {}
  }
 ]
}